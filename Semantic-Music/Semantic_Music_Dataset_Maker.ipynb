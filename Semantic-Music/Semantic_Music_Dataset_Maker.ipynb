{
  "nbformat": 4,
  "nbformat_minor": 0,
  "metadata": {
    "colab": {
      "private_outputs": true,
      "provenance": [],
      "machine_shape": "hm"
    },
    "kernelspec": {
      "name": "python3",
      "display_name": "Python 3"
    },
    "language_info": {
      "name": "python"
    }
  },
  "cells": [
    {
      "cell_type": "markdown",
      "source": [
        "# Semantic Music Dataset Maker (ver. 1.0)\n",
        "\n",
        "***\n",
        "\n",
        "Powered by tegridy-tools: https://github.com/asigalov61/tegridy-tools\n",
        "\n",
        "***\n",
        "\n",
        "#### Project Los Angeles\n",
        "\n",
        "#### Tegridy Code 2024\n",
        "\n",
        "***"
      ],
      "metadata": {
        "id": "GYTlZjHyteSe"
      }
    },
    {
      "cell_type": "markdown",
      "source": [
        "# (SETUP ENVIRONMENT)"
      ],
      "metadata": {
        "id": "2x38S2_ERLhO"
      }
    },
    {
      "cell_type": "code",
      "source": [
        "# @title Install dependecies\n",
        "!git clone --depth 1 https://github.com/asigalov61/tegridy-tools\n",
        "!pip install datasets -U"
      ],
      "metadata": {
        "id": "XRDWe94mWf9e",
        "cellView": "form"
      },
      "execution_count": null,
      "outputs": []
    },
    {
      "cell_type": "code",
      "source": [
        "#@title Import all needed modules\n",
        "\n",
        "print('=' * 70)\n",
        "print('Loading needed modules. Please wait...')\n",
        "\n",
        "import os\n",
        "import copy\n",
        "import math\n",
        "import statistics\n",
        "import random\n",
        "import pickle\n",
        "import shutil\n",
        "import re\n",
        "\n",
        "from collections import Counter\n",
        "\n",
        "from joblib import Parallel, delayed, parallel_config\n",
        "\n",
        "#from tqdm import tqdm\n",
        "import tqdm\n",
        "\n",
        "import matplotlib.pyplot as plt\n",
        "\n",
        "print('=' * 70)\n",
        "print('Creating I/O dirs...')\n",
        "\n",
        "if not os.path.exists('/content/Dataset'):\n",
        "    os.makedirs('/content/Dataset')\n",
        "\n",
        "print('=' * 70)\n",
        "print('Loading TMIDIX module...')\n",
        "\n",
        "%cd /content/tegridy-tools/tegridy-tools\n",
        "\n",
        "import TMIDIX\n",
        "\n",
        "%cd /content/\n",
        "\n",
        "from datasets import load_dataset\n",
        "\n",
        "print('=' * 70)"
      ],
      "metadata": {
        "id": "_HYNqP3tWls7",
        "cellView": "form"
      },
      "execution_count": null,
      "outputs": []
    },
    {
      "cell_type": "markdown",
      "source": [
        "# (DOWNLOAD SOURCE LYRICS DATASET)"
      ],
      "metadata": {
        "id": "aUhNBem6MtP0"
      }
    },
    {
      "cell_type": "code",
      "source": [
        "# @title Small lyrics dataset (recommended)\n",
        "\n",
        "#======================================================================\n",
        "# Helper function\n",
        "#======================================================================\n",
        "\n",
        "def clean_string(input_string):\n",
        "  input_string = input_string.replace('\\'', '').replace('-', ' ')\n",
        "  str1 = re.sub(r'[^a-z ]', '', input_string.lower().strip())\n",
        "  str2 = re.sub(' +', ' ', str1)\n",
        "  return str2.strip()\n",
        "\n",
        "#======================================================================\n",
        "\n",
        "print('=' * 70)\n",
        "print('Downloading small lyrics dataset...')\n",
        "print('=' * 70)\n",
        "lyrics_small = load_dataset(\"tsterbak/lyrics-dataset\")\n",
        "\n",
        "print('Done!')\n",
        "print('=' * 70)\n",
        "\n",
        "print('Prepping the dataset...')\n",
        "print('=' * 70)\n",
        "\n",
        "lyrics_small_clean = []\n",
        "\n",
        "for l in tqdm.tqdm(lyrics_small['train']):\n",
        "  lyrics_small_clean.append(l['seq'])\n",
        "\n",
        "random.shuffle(lyrics_small_clean)\n",
        "\n",
        "print('=' * 70)\n",
        "\n",
        "lyrics_sentences_all = set()\n",
        "\n",
        "str_counter = 0\n",
        "\n",
        "for l in tqdm.tqdm(lyrics_small_clean):\n",
        "  ls = l.split('\\n')\n",
        "  str_counter += len(ls)\n",
        "  for s in ls:\n",
        "    lyrics_sentences_all.add(clean_string(s))\n",
        "\n",
        "print('=' * 70)\n",
        "\n",
        "lyrics_words_sets = [set() for _ in range(256)]\n",
        "lyrics_sets = [set() for _ in range(256)]\n",
        "\n",
        "for l in tqdm.tqdm(lyrics_sentences_all):\n",
        "  ls = l.strip().split(' ')\n",
        "  if len(ls) < 257:\n",
        "    if l != '':\n",
        "      lyrics_sets[len(ls)-1].add(l.strip())\n",
        "    for i, s in enumerate(ls):\n",
        "      if s != '':\n",
        "        lyrics_words_sets[i].add(s.strip())\n",
        "\n",
        "print('=' * 70)\n",
        "\n",
        "lyrics_words_lists = []\n",
        "\n",
        "for l in tqdm.tqdm(lyrics_words_sets):\n",
        "  lyrics_words_lists.append(sorted(l))\n",
        "\n",
        "print('=' * 70)\n",
        "\n",
        "lyrics_sets_lists = []\n",
        "\n",
        "for l in tqdm.tqdm(lyrics_sets):\n",
        "  lst = sorted(l)\n",
        "  lyrics_sets_lists.append(lst)\n",
        "\n",
        "print('=' * 70)\n",
        "\n",
        "lyrics_lists = []\n",
        "\n",
        "for l in tqdm.tqdm(lyrics_sets):\n",
        "  lyrics_lists.append(sorted(l))\n",
        "\n",
        "print('Done!')\n",
        "print('=' * 70)\n",
        "print('Dataset is ready!')\n",
        "print('=' * 70)"
      ],
      "metadata": {
        "id": "c1rDeVNc72cT",
        "cellView": "form"
      },
      "execution_count": null,
      "outputs": []
    },
    {
      "cell_type": "markdown",
      "source": [
        "# (DOWNLOAD SOURCE MIDI DATASET)"
      ],
      "metadata": {
        "id": "M1c8X_LcicIT"
      }
    },
    {
      "cell_type": "code",
      "source": [
        "# @title POP909 MIDI Dataset (recommended)\n",
        "!git clone --depth 1 https://github.com/music-x-lab/POP909-Dataset"
      ],
      "metadata": {
        "id": "s6LZLQ138c-l",
        "cellView": "form"
      },
      "execution_count": null,
      "outputs": []
    },
    {
      "cell_type": "code",
      "source": [
        "# @title ASAP MIDI Dataset\n",
        "!git clone --depth 1 https://github.com/fosfrancesco/asap-dataset"
      ],
      "metadata": {
        "cellView": "form",
        "id": "X4cVpPP8UQ9O"
      },
      "execution_count": null,
      "outputs": []
    },
    {
      "cell_type": "markdown",
      "source": [
        "# (PROCESS MIDIs)"
      ],
      "metadata": {
        "id": "RWs9gnvTUut1"
      }
    },
    {
      "cell_type": "code",
      "source": [
        "#@title Prep MIDI file list\n",
        "source_MIDI_dataset_path = \"/content/POP909-Dataset\" # @param {type:\"string\"}\n",
        "\n",
        "print('=' * 70)\n",
        "print('Loading MIDI files...')\n",
        "print('This may take a while on a large dataset in particular.')\n",
        "\n",
        "filez = list()\n",
        "for (dirpath, dirnames, filenames) in os.walk(source_MIDI_dataset_path):\n",
        "    filez += [os.path.join(dirpath, file) for file in filenames if file.endswith('.mid')]\n",
        "print('=' * 70)\n",
        "\n",
        "if not filez:\n",
        "    print('Could not find any MIDI files. Please check Dataset dir...')\n",
        "    print('=' * 70)\n",
        "\n",
        "else:\n",
        "  print('Randomizing file list...')\n",
        "  random.shuffle(filez)\n",
        "  print('Done!')\n",
        "  print('=' * 70)\n",
        "  print('Total files:', len(filez))\n",
        "  print('=' * 70)"
      ],
      "metadata": {
        "id": "iLXqprsf8dcI",
        "cellView": "form"
      },
      "execution_count": null,
      "outputs": []
    },
    {
      "cell_type": "code",
      "source": [
        "#@title Process MIDIs with TMIDIX MIDI processor\n",
        "\n",
        "print('=' * 70)\n",
        "print('TMIDIX MIDI Processor')\n",
        "print('=' * 70)\n",
        "print('Starting up...')\n",
        "print('=' * 70)\n",
        "\n",
        "all_scores = []\n",
        "\n",
        "print('Processing MIDI files. Please wait...')\n",
        "print('=' * 70)\n",
        "\n",
        "for f in tqdm.tqdm(filez):\n",
        "\n",
        "    try:\n",
        "\n",
        "      label = os.path.basename(f).split('.mid')[0]\n",
        "\n",
        "      raw_score = TMIDIX.midi2single_track_ms_score(open(f, 'rb').read())\n",
        "\n",
        "      escore = TMIDIX.advanced_score_processor(raw_score, return_enhanced_score_notes=True)[0]\n",
        "\n",
        "      escore = TMIDIX.augment_enhanced_score_notes(escore, timings_divider=32)\n",
        "\n",
        "      dscore = TMIDIX.delta_score_notes(escore)\n",
        "\n",
        "      cscore = TMIDIX.chordify_score([d[1:] for d in dscore])\n",
        "\n",
        "      src_score = []\n",
        "\n",
        "      sscore = []\n",
        "\n",
        "      time = 0\n",
        "      ptime = 0\n",
        "\n",
        "      for c in cscore:\n",
        "\n",
        "        chord = []\n",
        "\n",
        "        delta_time = max(0, min(127, c[0][0]))\n",
        "\n",
        "        chord.append(delta_time)\n",
        "\n",
        "        for e in c:\n",
        "\n",
        "          dur =  max(1, min(127, e[1]))\n",
        "          cha = max(0, min(15, e[2]))\n",
        "          ptc = max(1, min(127, e[3]))\n",
        "          vel = max(1, min(127, e[4]))\n",
        "          pat = max(1, min(127, e[5]))\n",
        "\n",
        "          chord.extend([dur, ptc])\n",
        "\n",
        "        sscore.append(chord)\n",
        "\n",
        "        if time >= ptime + 128 and sscore:\n",
        "          src_score.append(sscore)\n",
        "          sscore = []\n",
        "          ptime = time\n",
        "\n",
        "        time += delta_time\n",
        "\n",
        "      if src_score:\n",
        "        all_scores.append([label, src_score])\n",
        "\n",
        "    except KeyboardInterrupt:\n",
        "        print('Saving current progress and quitting...')\n",
        "        break\n",
        "\n",
        "    except Exception as ex:\n",
        "        print('WARNING !!!')\n",
        "        print('=' * 70)\n",
        "        print(f)\n",
        "        print('=' * 70)\n",
        "        print('Error detected:', ex)\n",
        "        print('=' * 70)\n",
        "        continue\n",
        "\n",
        "print('Done!')\n",
        "print('=' * 70)\n",
        "print('Enjoy!')\n",
        "print('=' * 70)"
      ],
      "metadata": {
        "id": "_-bXRgtf8kqi",
        "cellView": "form"
      },
      "execution_count": null,
      "outputs": []
    },
    {
      "cell_type": "code",
      "source": [
        "#@title Save processed MIDIs\n",
        "TMIDIX.Tegridy_Any_Pickle_File_Writer(all_scores, '/content/Processed_MIDIs')"
      ],
      "metadata": {
        "id": "6fVdGA0Q8pwR",
        "cellView": "form"
      },
      "execution_count": null,
      "outputs": []
    },
    {
      "cell_type": "code",
      "source": [
        "# @title Load processed MIDIs\n",
        "all_scores = TMIDIX.Tegridy_Any_Pickle_File_Reader('/content/Processed_MIDIs')"
      ],
      "metadata": {
        "id": "4EmyTKjX0DCy",
        "cellView": "form"
      },
      "execution_count": null,
      "outputs": []
    },
    {
      "cell_type": "markdown",
      "source": [
        "# (PREP PROCESSED MIDIs)"
      ],
      "metadata": {
        "id": "Ewo6x6NdXB5z"
      }
    },
    {
      "cell_type": "code",
      "source": [
        "# @title Prep processed MIDIs\n",
        "\n",
        "print('=' * 70)\n",
        "print('Prepping processed MIDIs...')\n",
        "print('=' * 70)\n",
        "\n",
        "random.shuffle(all_scores)\n",
        "\n",
        "all_scores_ext = []\n",
        "\n",
        "for aa in tqdm.tqdm(all_scores):\n",
        "  for a in aa[1]:\n",
        "    all_scores_ext.extend(a)\n",
        "\n",
        "print('Done!')\n",
        "print('=' * 70)\n",
        "\n",
        "print('Creating scores sets...')\n",
        "\n",
        "all_scores_set = set(tuple(s) for s in all_scores_ext)\n",
        "\n",
        "all_scores_list = [list(a) for a in all_scores_set]\n",
        "\n",
        "all_scores_set = sorted(all_scores_set, key=lambda x: (len(x), x))\n",
        "\n",
        "print('Done!')\n",
        "print('=' * 70)\n",
        "\n",
        "selected_lyrics = []\n",
        "\n",
        "lyrics_lists_idxs = [0] * 256\n",
        "\n",
        "for s in tqdm.tqdm(all_scores_set):\n",
        "  sl = len(s)\n",
        "  lyr_list = lyrics_lists[sl-1]\n",
        "  lyr = lyr_list[lyrics_lists_idxs[sl-1]]\n",
        "  lyrics_lists_idxs[sl-1] += 1\n",
        "  selected_lyrics.append([list(s), lyr, len(lyr.split())])\n",
        "\n",
        "selected_lyrics = sorted(selected_lyrics, key=lambda x: (x[2], x[1]))\n",
        "\n",
        "print('=' * 70)\n",
        "\n",
        "selected_lyrics_ext = ''\n",
        "\n",
        "for s in tqdm.tqdm(selected_lyrics):\n",
        "  selected_lyrics_ext += s[1] + ' '\n",
        "\n",
        "print('=' * 70)\n",
        "\n",
        "words_dict = list(set(selected_lyrics_ext.split(' ')))\n",
        "\n",
        "print('Done!')\n",
        "print('=' * 70)"
      ],
      "metadata": {
        "id": "HMcwyvrL_kQf",
        "cellView": "form"
      },
      "execution_count": null,
      "outputs": []
    },
    {
      "cell_type": "markdown",
      "source": [
        "# (CONVERT)"
      ],
      "metadata": {
        "id": "Wyt3qGMQZaT8"
      }
    },
    {
      "cell_type": "code",
      "source": [
        "# @title Convert processed MIDIs to semantic music scores\n",
        "\n",
        "print('=' * 70)\n",
        "print('Converting MIDIs to semantic music scores...')\n",
        "print('Please wait...')\n",
        "print('=' * 70)\n",
        "\n",
        "all_scores_lyrics = []\n",
        "\n",
        "chords = [tuple(c[0]) for c in selected_lyrics]\n",
        "\n",
        "for ccc in tqdm.tqdm(all_scores):\n",
        "  sslyr = []\n",
        "  fn = ccc[0]\n",
        "  for cc in ccc[1]:\n",
        "    slyr = []\n",
        "    for c in cc:\n",
        "      lyr = selected_lyrics[chords.index(tuple(c))][1]\n",
        "      slyr.append(lyr)\n",
        "    sslyr.append(slyr)\n",
        "\n",
        "  all_scores_lyrics.append([fn, sslyr])\n",
        "\n",
        "print('Done!')\n",
        "print('=' * 70)"
      ],
      "metadata": {
        "id": "39OqUXPfwi0H",
        "cellView": "form"
      },
      "execution_count": null,
      "outputs": []
    },
    {
      "cell_type": "code",
      "source": [
        "# @title Save sematic music dataset\n",
        "TMIDIX.Tegridy_Any_Pickle_File_Writer([all_scores, all_scores_lyrics, selected_lyrics, words_dict], '/content/Semantic_Music_Dataset')"
      ],
      "metadata": {
        "id": "wSf9APoyXeKf",
        "cellView": "form"
      },
      "execution_count": null,
      "outputs": []
    },
    {
      "cell_type": "code",
      "source": [
        "# @title Load semantic music dataset\n",
        "all_scores, all_scores_lyrics, selected_lyrics, words_dict = TMIDIX.Tegridy_Any_Pickle_File_Reader('/content/Semantic_Music_Dataset')"
      ],
      "metadata": {
        "cellView": "form",
        "id": "D36iGzaSZ56j"
      },
      "execution_count": null,
      "outputs": []
    },
    {
      "cell_type": "markdown",
      "source": [
        "# (TEST SEMANTIC DATASET)"
      ],
      "metadata": {
        "id": "rLuxre_zaLfo"
      }
    },
    {
      "cell_type": "code",
      "source": [
        "# @title Test semantic score dataset\n",
        "print('=' * 70)\n",
        "print('Loading random score...')\n",
        "\n",
        "semantic_score = random.choice(all_scores_lyrics)\n",
        "chords_dict = [s[1] for s in selected_lyrics]\n",
        "\n",
        "file_name = semantic_score[0]\n",
        "sem_score = semantic_score[1]\n",
        "\n",
        "print('Done!')\n",
        "print('=' * 70)\n",
        "\n",
        "print('Reconstructing score...')\n",
        "print('=' * 70)\n",
        "\n",
        "delta_chords_score = []\n",
        "\n",
        "for s in tqdm.tqdm(sem_score):\n",
        "  for ss in s:\n",
        "\n",
        "    idx = chords_dict.index(ss)\n",
        "    chord = selected_lyrics[idx][0]\n",
        "\n",
        "    delta_chords_score.append(chord)\n",
        "\n",
        "print('Done!')\n",
        "print('=' * 70)\n",
        "#===============================================================================\n",
        "\n",
        "song_f = []\n",
        "\n",
        "time = 0\n",
        "dur = 1\n",
        "vel = 90\n",
        "pitch = 60\n",
        "channel = 0\n",
        "\n",
        "for s in delta_chords_score:\n",
        "\n",
        "  time += s[0] * 32\n",
        "\n",
        "  for i in range(1, len(s), 2):\n",
        "\n",
        "    dur = s[i] * 32\n",
        "    ptc = s[i+1]\n",
        "\n",
        "    vel = max(40, ptc)\n",
        "\n",
        "    song_f.append(['note', time, dur, channel, ptc, vel, 0])\n",
        "\n",
        "data = TMIDIX.Tegridy_ms_SONG_to_MIDI_Converter(song_f,\n",
        "                                                output_signature = file_name,\n",
        "                                                output_file_name = '/content/Semantic-Music-Composition',\n",
        "                                                track_name='Project Los Angeles',\n",
        "                                                )\n",
        "\n",
        "print('=' * 70)"
      ],
      "metadata": {
        "id": "eNun7PIK3ZLl",
        "cellView": "form"
      },
      "execution_count": null,
      "outputs": []
    },
    {
      "cell_type": "markdown",
      "source": [
        "# Congrats! You did it! :)"
      ],
      "metadata": {
        "id": "VguR26Lfa-5K"
      }
    }
  ]
}